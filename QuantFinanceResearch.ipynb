{
  "cells": [
    {
      "cell_type": "code",
      "execution_count": null,
      "metadata": {
        "id": "3FN6krM_dcgF"
      },
      "outputs": [],
      "source": [
        "from google.colab import drive\n",
        "\n",
        "import matplotlib.pyplot as plt\n",
        "import pandas as pd\n",
        "import numpy as np\n",
        "import seaborn as sns\n",
        "\n",
        "%matplotlib inline"
      ]
    },
    {
      "cell_type": "code",
      "execution_count": null,
      "metadata": {
        "colab": {
          "base_uri": "https://localhost:8080/"
        },
        "id": "LRsphHJZdou1",
        "outputId": "bdd831c3-4638-4af7-dc92-b81fbb57bc50"
      },
      "outputs": [
        {
          "output_type": "stream",
          "name": "stdout",
          "text": [
            "Mounted at /content/drive\n"
          ]
        }
      ],
      "source": [
        "drive.mount('/content/drive')"
      ]
    },
    {
      "cell_type": "code",
      "execution_count": null,
      "metadata": {
        "id": "e1k5flwKdpQi"
      },
      "outputs": [],
      "source": [
        "mf = \"/content/drive/MyDrive/yahoofunds/MutualFunds.csv\"\n",
        "etfs = \"/content/drive/MyDrive/yahoofunds/ETFs.csv\""
      ]
    },
    {
      "cell_type": "code",
      "execution_count": null,
      "metadata": {
        "id": "0p7Px2c6eJBe"
      },
      "outputs": [],
      "source": [
        "dfmf = pd.read_csv(mf)\n",
        "dfetfs = pd.read_csv(etfs)"
      ]
    },
    {
      "cell_type": "code",
      "execution_count": null,
      "metadata": {
        "id": "5sp4QeEDzfzq"
      },
      "outputs": [],
      "source": [
        "df = pd.concat([dfmf,dfetfs], ignore_index=True)"
      ]
    },
    {
      "cell_type": "code",
      "execution_count": null,
      "metadata": {
        "id": "1WCHGbZ87FLB"
      },
      "outputs": [],
      "source": [
        "#capm: return = 0.045 + fund_beta5years(0.8358-0.045)\n",
        "#2834.40 = s&p march 29 2019, 5203.58 march 26 2024 = 0.8358"
      ]
    },
    {
      "cell_type": "code",
      "execution_count": null,
      "metadata": {
        "id": "WHJVF1pA0Q0T",
        "colab": {
          "base_uri": "https://localhost:8080/",
          "height": 773
        },
        "outputId": "0edd8ea6-15db-4e13-aa0c-58cf68986dae"
      },
      "outputs": [
        {
          "output_type": "execute_result",
          "data": {
            "text/plain": [
              "      fund_symbol  quote_type region                  fund_short_name  \\\n",
              "0           AAAAX  MutualFund     US  DWS RREEF Real Assets Fund - Cl   \n",
              "3           AAAGX  MutualFund     US  Thrivent Large Cap Growth Fund    \n",
              "5           AAAIX  MutualFund     US  American Century Strategic Allo   \n",
              "10          AAANX  MutualFund     US  Horizon Active Asset Allocation   \n",
              "12          AAAPX  MutualFund     US  DWS RREEF Real Assets Fund - Cl   \n",
              "...           ...         ...    ...                              ...   \n",
              "26088         EPP         ETF     US  Cboe Vest S&P 500 Buffer Strate   \n",
              "26089        ERUS         ETF     US     Buffalo Flexible Income Fund   \n",
              "26090         EWA         ETF     US      Buffalo Dividend Focus Fund   \n",
              "26091         EWC         ETF     US     Buffalo Large Cap Fund, Inc.   \n",
              "26092         EWD         ETF     US              Buffalo Growth Fund   \n",
              "\n",
              "                                          fund_long_name currency  \\\n",
              "0                   DWS RREEF Real Assets Fund - Class A      USD   \n",
              "3                 Thrivent Large Cap Growth Fund Class A      USD   \n",
              "5      American Century Strategic Allocation: Aggress...      USD   \n",
              "10     Horizon Active Asset Allocation Fund Investor ...      USD   \n",
              "12                  DWS RREEF Real Assets Fund - Class C      USD   \n",
              "...                                                  ...      ...   \n",
              "26088  CBOE Vest S&P 500 Buffer Strategy Fund Class C...      USD   \n",
              "26089                       Buffalo Flexible Income Fund      USD   \n",
              "26090                        Buffalo Dividend Focus Fund      USD   \n",
              "26091                             Buffalo Large Cap Fund      USD   \n",
              "26092                                Buffalo Growth Fund      USD   \n",
              "\n",
              "       initial_investment  subsequent_investment  \\\n",
              "0                  1000.0                   50.0   \n",
              "3                  2000.0                   50.0   \n",
              "5               5000000.0                   50.0   \n",
              "10                 2500.0                  250.0   \n",
              "12                 1000.0                   50.0   \n",
              "...                   ...                    ...   \n",
              "26088                 NaN                    NaN   \n",
              "26089                 NaN                    NaN   \n",
              "26090                 NaN                    NaN   \n",
              "26091                 NaN                    NaN   \n",
              "26092                 NaN                    NaN   \n",
              "\n",
              "                       fund_category                   fund_family  ...  \\\n",
              "0                   World Allocation                           DWS  ...   \n",
              "3                       Large Growth                Thrivent Funds  ...   \n",
              "5      Allocation--70% to 85% Equity  American Century Investments  ...   \n",
              "10               Tactical Allocation           Horizon Investments  ...   \n",
              "12                  World Allocation                           DWS  ...   \n",
              "...                              ...                           ...  ...   \n",
              "26088      Pacific/Asia ex-Japan Stk                     CBOE Vest  ...   \n",
              "26089           Miscellaneous Region                       Buffalo  ...   \n",
              "26090           Miscellaneous Region                       Buffalo  ...   \n",
              "26091           Miscellaneous Region                       Buffalo  ...   \n",
              "26092           Miscellaneous Region                       Buffalo  ...   \n",
              "\n",
              "      social_score peer_social_min peer_social_avg peer_social_max  \\\n",
              "0             7.43            5.98            9.07           11.30   \n",
              "3            10.13            7.25           10.14           11.97   \n",
              "5             9.01            4.74            9.43           10.84   \n",
              "10            8.68            7.36            9.37           10.88   \n",
              "12            7.43            5.98            9.07           11.30   \n",
              "...            ...             ...             ...             ...   \n",
              "26088          NaN             NaN             NaN             NaN   \n",
              "26089          NaN             NaN             NaN             NaN   \n",
              "26090          NaN             NaN             NaN             NaN   \n",
              "26091          NaN             NaN             NaN             NaN   \n",
              "26092          NaN             NaN             NaN             NaN   \n",
              "\n",
              "      governance_score peer_governance_min  peer_governance_avg  \\\n",
              "0                 5.43                4.26                 7.14   \n",
              "3                 8.03                5.30                 7.54   \n",
              "5                 6.82                3.91                 7.15   \n",
              "10                6.95                5.52                 7.06   \n",
              "12                5.43                4.26                 7.14   \n",
              "...                ...                 ...                  ...   \n",
              "26088              NaN                 NaN                  NaN   \n",
              "26089              NaN                 NaN                  NaN   \n",
              "26090              NaN                 NaN                  NaN   \n",
              "26091              NaN                 NaN                  NaN   \n",
              "26092              NaN                 NaN                  NaN   \n",
              "\n",
              "       peer_governance_max  avg_vol_3month  avg_vol_10day  \n",
              "0                     8.11             NaN            NaN  \n",
              "3                     8.90             NaN            NaN  \n",
              "5                     9.10             NaN            NaN  \n",
              "10                    8.48             NaN            NaN  \n",
              "12                    8.11             NaN            NaN  \n",
              "...                    ...             ...            ...  \n",
              "26088                  NaN        344309.0       668890.0  \n",
              "26089                  NaN        177836.0       166500.0  \n",
              "26090                  NaN       2399042.0      2987010.0  \n",
              "26091                  NaN       3588509.0      5136200.0  \n",
              "26092                  NaN        393525.0       543640.0  \n",
              "\n",
              "[18127 rows x 300 columns]"
            ],
            "text/html": [
              "\n",
              "  <div id=\"df-b712e6e5-c966-4441-8498-a3d7e079faec\" class=\"colab-df-container\">\n",
              "    <div>\n",
              "<style scoped>\n",
              "    .dataframe tbody tr th:only-of-type {\n",
              "        vertical-align: middle;\n",
              "    }\n",
              "\n",
              "    .dataframe tbody tr th {\n",
              "        vertical-align: top;\n",
              "    }\n",
              "\n",
              "    .dataframe thead th {\n",
              "        text-align: right;\n",
              "    }\n",
              "</style>\n",
              "<table border=\"1\" class=\"dataframe\">\n",
              "  <thead>\n",
              "    <tr style=\"text-align: right;\">\n",
              "      <th></th>\n",
              "      <th>fund_symbol</th>\n",
              "      <th>quote_type</th>\n",
              "      <th>region</th>\n",
              "      <th>fund_short_name</th>\n",
              "      <th>fund_long_name</th>\n",
              "      <th>currency</th>\n",
              "      <th>initial_investment</th>\n",
              "      <th>subsequent_investment</th>\n",
              "      <th>fund_category</th>\n",
              "      <th>fund_family</th>\n",
              "      <th>...</th>\n",
              "      <th>social_score</th>\n",
              "      <th>peer_social_min</th>\n",
              "      <th>peer_social_avg</th>\n",
              "      <th>peer_social_max</th>\n",
              "      <th>governance_score</th>\n",
              "      <th>peer_governance_min</th>\n",
              "      <th>peer_governance_avg</th>\n",
              "      <th>peer_governance_max</th>\n",
              "      <th>avg_vol_3month</th>\n",
              "      <th>avg_vol_10day</th>\n",
              "    </tr>\n",
              "  </thead>\n",
              "  <tbody>\n",
              "    <tr>\n",
              "      <th>0</th>\n",
              "      <td>AAAAX</td>\n",
              "      <td>MutualFund</td>\n",
              "      <td>US</td>\n",
              "      <td>DWS RREEF Real Assets Fund - Cl</td>\n",
              "      <td>DWS RREEF Real Assets Fund - Class A</td>\n",
              "      <td>USD</td>\n",
              "      <td>1000.0</td>\n",
              "      <td>50.0</td>\n",
              "      <td>World Allocation</td>\n",
              "      <td>DWS</td>\n",
              "      <td>...</td>\n",
              "      <td>7.43</td>\n",
              "      <td>5.98</td>\n",
              "      <td>9.07</td>\n",
              "      <td>11.30</td>\n",
              "      <td>5.43</td>\n",
              "      <td>4.26</td>\n",
              "      <td>7.14</td>\n",
              "      <td>8.11</td>\n",
              "      <td>NaN</td>\n",
              "      <td>NaN</td>\n",
              "    </tr>\n",
              "    <tr>\n",
              "      <th>3</th>\n",
              "      <td>AAAGX</td>\n",
              "      <td>MutualFund</td>\n",
              "      <td>US</td>\n",
              "      <td>Thrivent Large Cap Growth Fund</td>\n",
              "      <td>Thrivent Large Cap Growth Fund Class A</td>\n",
              "      <td>USD</td>\n",
              "      <td>2000.0</td>\n",
              "      <td>50.0</td>\n",
              "      <td>Large Growth</td>\n",
              "      <td>Thrivent Funds</td>\n",
              "      <td>...</td>\n",
              "      <td>10.13</td>\n",
              "      <td>7.25</td>\n",
              "      <td>10.14</td>\n",
              "      <td>11.97</td>\n",
              "      <td>8.03</td>\n",
              "      <td>5.30</td>\n",
              "      <td>7.54</td>\n",
              "      <td>8.90</td>\n",
              "      <td>NaN</td>\n",
              "      <td>NaN</td>\n",
              "    </tr>\n",
              "    <tr>\n",
              "      <th>5</th>\n",
              "      <td>AAAIX</td>\n",
              "      <td>MutualFund</td>\n",
              "      <td>US</td>\n",
              "      <td>American Century Strategic Allo</td>\n",
              "      <td>American Century Strategic Allocation: Aggress...</td>\n",
              "      <td>USD</td>\n",
              "      <td>5000000.0</td>\n",
              "      <td>50.0</td>\n",
              "      <td>Allocation--70% to 85% Equity</td>\n",
              "      <td>American Century Investments</td>\n",
              "      <td>...</td>\n",
              "      <td>9.01</td>\n",
              "      <td>4.74</td>\n",
              "      <td>9.43</td>\n",
              "      <td>10.84</td>\n",
              "      <td>6.82</td>\n",
              "      <td>3.91</td>\n",
              "      <td>7.15</td>\n",
              "      <td>9.10</td>\n",
              "      <td>NaN</td>\n",
              "      <td>NaN</td>\n",
              "    </tr>\n",
              "    <tr>\n",
              "      <th>10</th>\n",
              "      <td>AAANX</td>\n",
              "      <td>MutualFund</td>\n",
              "      <td>US</td>\n",
              "      <td>Horizon Active Asset Allocation</td>\n",
              "      <td>Horizon Active Asset Allocation Fund Investor ...</td>\n",
              "      <td>USD</td>\n",
              "      <td>2500.0</td>\n",
              "      <td>250.0</td>\n",
              "      <td>Tactical Allocation</td>\n",
              "      <td>Horizon Investments</td>\n",
              "      <td>...</td>\n",
              "      <td>8.68</td>\n",
              "      <td>7.36</td>\n",
              "      <td>9.37</td>\n",
              "      <td>10.88</td>\n",
              "      <td>6.95</td>\n",
              "      <td>5.52</td>\n",
              "      <td>7.06</td>\n",
              "      <td>8.48</td>\n",
              "      <td>NaN</td>\n",
              "      <td>NaN</td>\n",
              "    </tr>\n",
              "    <tr>\n",
              "      <th>12</th>\n",
              "      <td>AAAPX</td>\n",
              "      <td>MutualFund</td>\n",
              "      <td>US</td>\n",
              "      <td>DWS RREEF Real Assets Fund - Cl</td>\n",
              "      <td>DWS RREEF Real Assets Fund - Class C</td>\n",
              "      <td>USD</td>\n",
              "      <td>1000.0</td>\n",
              "      <td>50.0</td>\n",
              "      <td>World Allocation</td>\n",
              "      <td>DWS</td>\n",
              "      <td>...</td>\n",
              "      <td>7.43</td>\n",
              "      <td>5.98</td>\n",
              "      <td>9.07</td>\n",
              "      <td>11.30</td>\n",
              "      <td>5.43</td>\n",
              "      <td>4.26</td>\n",
              "      <td>7.14</td>\n",
              "      <td>8.11</td>\n",
              "      <td>NaN</td>\n",
              "      <td>NaN</td>\n",
              "    </tr>\n",
              "    <tr>\n",
              "      <th>...</th>\n",
              "      <td>...</td>\n",
              "      <td>...</td>\n",
              "      <td>...</td>\n",
              "      <td>...</td>\n",
              "      <td>...</td>\n",
              "      <td>...</td>\n",
              "      <td>...</td>\n",
              "      <td>...</td>\n",
              "      <td>...</td>\n",
              "      <td>...</td>\n",
              "      <td>...</td>\n",
              "      <td>...</td>\n",
              "      <td>...</td>\n",
              "      <td>...</td>\n",
              "      <td>...</td>\n",
              "      <td>...</td>\n",
              "      <td>...</td>\n",
              "      <td>...</td>\n",
              "      <td>...</td>\n",
              "      <td>...</td>\n",
              "      <td>...</td>\n",
              "    </tr>\n",
              "    <tr>\n",
              "      <th>26088</th>\n",
              "      <td>EPP</td>\n",
              "      <td>ETF</td>\n",
              "      <td>US</td>\n",
              "      <td>Cboe Vest S&amp;P 500 Buffer Strate</td>\n",
              "      <td>CBOE Vest S&amp;P 500 Buffer Strategy Fund Class C...</td>\n",
              "      <td>USD</td>\n",
              "      <td>NaN</td>\n",
              "      <td>NaN</td>\n",
              "      <td>Pacific/Asia ex-Japan Stk</td>\n",
              "      <td>CBOE Vest</td>\n",
              "      <td>...</td>\n",
              "      <td>NaN</td>\n",
              "      <td>NaN</td>\n",
              "      <td>NaN</td>\n",
              "      <td>NaN</td>\n",
              "      <td>NaN</td>\n",
              "      <td>NaN</td>\n",
              "      <td>NaN</td>\n",
              "      <td>NaN</td>\n",
              "      <td>344309.0</td>\n",
              "      <td>668890.0</td>\n",
              "    </tr>\n",
              "    <tr>\n",
              "      <th>26089</th>\n",
              "      <td>ERUS</td>\n",
              "      <td>ETF</td>\n",
              "      <td>US</td>\n",
              "      <td>Buffalo Flexible Income Fund</td>\n",
              "      <td>Buffalo Flexible Income Fund</td>\n",
              "      <td>USD</td>\n",
              "      <td>NaN</td>\n",
              "      <td>NaN</td>\n",
              "      <td>Miscellaneous Region</td>\n",
              "      <td>Buffalo</td>\n",
              "      <td>...</td>\n",
              "      <td>NaN</td>\n",
              "      <td>NaN</td>\n",
              "      <td>NaN</td>\n",
              "      <td>NaN</td>\n",
              "      <td>NaN</td>\n",
              "      <td>NaN</td>\n",
              "      <td>NaN</td>\n",
              "      <td>NaN</td>\n",
              "      <td>177836.0</td>\n",
              "      <td>166500.0</td>\n",
              "    </tr>\n",
              "    <tr>\n",
              "      <th>26090</th>\n",
              "      <td>EWA</td>\n",
              "      <td>ETF</td>\n",
              "      <td>US</td>\n",
              "      <td>Buffalo Dividend Focus Fund</td>\n",
              "      <td>Buffalo Dividend Focus Fund</td>\n",
              "      <td>USD</td>\n",
              "      <td>NaN</td>\n",
              "      <td>NaN</td>\n",
              "      <td>Miscellaneous Region</td>\n",
              "      <td>Buffalo</td>\n",
              "      <td>...</td>\n",
              "      <td>NaN</td>\n",
              "      <td>NaN</td>\n",
              "      <td>NaN</td>\n",
              "      <td>NaN</td>\n",
              "      <td>NaN</td>\n",
              "      <td>NaN</td>\n",
              "      <td>NaN</td>\n",
              "      <td>NaN</td>\n",
              "      <td>2399042.0</td>\n",
              "      <td>2987010.0</td>\n",
              "    </tr>\n",
              "    <tr>\n",
              "      <th>26091</th>\n",
              "      <td>EWC</td>\n",
              "      <td>ETF</td>\n",
              "      <td>US</td>\n",
              "      <td>Buffalo Large Cap Fund, Inc.</td>\n",
              "      <td>Buffalo Large Cap Fund</td>\n",
              "      <td>USD</td>\n",
              "      <td>NaN</td>\n",
              "      <td>NaN</td>\n",
              "      <td>Miscellaneous Region</td>\n",
              "      <td>Buffalo</td>\n",
              "      <td>...</td>\n",
              "      <td>NaN</td>\n",
              "      <td>NaN</td>\n",
              "      <td>NaN</td>\n",
              "      <td>NaN</td>\n",
              "      <td>NaN</td>\n",
              "      <td>NaN</td>\n",
              "      <td>NaN</td>\n",
              "      <td>NaN</td>\n",
              "      <td>3588509.0</td>\n",
              "      <td>5136200.0</td>\n",
              "    </tr>\n",
              "    <tr>\n",
              "      <th>26092</th>\n",
              "      <td>EWD</td>\n",
              "      <td>ETF</td>\n",
              "      <td>US</td>\n",
              "      <td>Buffalo Growth Fund</td>\n",
              "      <td>Buffalo Growth Fund</td>\n",
              "      <td>USD</td>\n",
              "      <td>NaN</td>\n",
              "      <td>NaN</td>\n",
              "      <td>Miscellaneous Region</td>\n",
              "      <td>Buffalo</td>\n",
              "      <td>...</td>\n",
              "      <td>NaN</td>\n",
              "      <td>NaN</td>\n",
              "      <td>NaN</td>\n",
              "      <td>NaN</td>\n",
              "      <td>NaN</td>\n",
              "      <td>NaN</td>\n",
              "      <td>NaN</td>\n",
              "      <td>NaN</td>\n",
              "      <td>393525.0</td>\n",
              "      <td>543640.0</td>\n",
              "    </tr>\n",
              "  </tbody>\n",
              "</table>\n",
              "<p>18127 rows × 300 columns</p>\n",
              "</div>\n",
              "    <div class=\"colab-df-buttons\">\n",
              "\n",
              "  <div class=\"colab-df-container\">\n",
              "    <button class=\"colab-df-convert\" onclick=\"convertToInteractive('df-b712e6e5-c966-4441-8498-a3d7e079faec')\"\n",
              "            title=\"Convert this dataframe to an interactive table.\"\n",
              "            style=\"display:none;\">\n",
              "\n",
              "  <svg xmlns=\"http://www.w3.org/2000/svg\" height=\"24px\" viewBox=\"0 -960 960 960\">\n",
              "    <path d=\"M120-120v-720h720v720H120Zm60-500h600v-160H180v160Zm220 220h160v-160H400v160Zm0 220h160v-160H400v160ZM180-400h160v-160H180v160Zm440 0h160v-160H620v160ZM180-180h160v-160H180v160Zm440 0h160v-160H620v160Z\"/>\n",
              "  </svg>\n",
              "    </button>\n",
              "\n",
              "  <style>\n",
              "    .colab-df-container {\n",
              "      display:flex;\n",
              "      gap: 12px;\n",
              "    }\n",
              "\n",
              "    .colab-df-convert {\n",
              "      background-color: #E8F0FE;\n",
              "      border: none;\n",
              "      border-radius: 50%;\n",
              "      cursor: pointer;\n",
              "      display: none;\n",
              "      fill: #1967D2;\n",
              "      height: 32px;\n",
              "      padding: 0 0 0 0;\n",
              "      width: 32px;\n",
              "    }\n",
              "\n",
              "    .colab-df-convert:hover {\n",
              "      background-color: #E2EBFA;\n",
              "      box-shadow: 0px 1px 2px rgba(60, 64, 67, 0.3), 0px 1px 3px 1px rgba(60, 64, 67, 0.15);\n",
              "      fill: #174EA6;\n",
              "    }\n",
              "\n",
              "    .colab-df-buttons div {\n",
              "      margin-bottom: 4px;\n",
              "    }\n",
              "\n",
              "    [theme=dark] .colab-df-convert {\n",
              "      background-color: #3B4455;\n",
              "      fill: #D2E3FC;\n",
              "    }\n",
              "\n",
              "    [theme=dark] .colab-df-convert:hover {\n",
              "      background-color: #434B5C;\n",
              "      box-shadow: 0px 1px 3px 1px rgba(0, 0, 0, 0.15);\n",
              "      filter: drop-shadow(0px 1px 2px rgba(0, 0, 0, 0.3));\n",
              "      fill: #FFFFFF;\n",
              "    }\n",
              "  </style>\n",
              "\n",
              "    <script>\n",
              "      const buttonEl =\n",
              "        document.querySelector('#df-b712e6e5-c966-4441-8498-a3d7e079faec button.colab-df-convert');\n",
              "      buttonEl.style.display =\n",
              "        google.colab.kernel.accessAllowed ? 'block' : 'none';\n",
              "\n",
              "      async function convertToInteractive(key) {\n",
              "        const element = document.querySelector('#df-b712e6e5-c966-4441-8498-a3d7e079faec');\n",
              "        const dataTable =\n",
              "          await google.colab.kernel.invokeFunction('convertToInteractive',\n",
              "                                                    [key], {});\n",
              "        if (!dataTable) return;\n",
              "\n",
              "        const docLinkHtml = 'Like what you see? Visit the ' +\n",
              "          '<a target=\"_blank\" href=https://colab.research.google.com/notebooks/data_table.ipynb>data table notebook</a>'\n",
              "          + ' to learn more about interactive tables.';\n",
              "        element.innerHTML = '';\n",
              "        dataTable['output_type'] = 'display_data';\n",
              "        await google.colab.output.renderOutput(dataTable, element);\n",
              "        const docLink = document.createElement('div');\n",
              "        docLink.innerHTML = docLinkHtml;\n",
              "        element.appendChild(docLink);\n",
              "      }\n",
              "    </script>\n",
              "  </div>\n",
              "\n",
              "\n",
              "<div id=\"df-2c197b4e-610b-4506-b263-c66708bd2dbf\">\n",
              "  <button class=\"colab-df-quickchart\" onclick=\"quickchart('df-2c197b4e-610b-4506-b263-c66708bd2dbf')\"\n",
              "            title=\"Suggest charts\"\n",
              "            style=\"display:none;\">\n",
              "\n",
              "<svg xmlns=\"http://www.w3.org/2000/svg\" height=\"24px\"viewBox=\"0 0 24 24\"\n",
              "     width=\"24px\">\n",
              "    <g>\n",
              "        <path d=\"M19 3H5c-1.1 0-2 .9-2 2v14c0 1.1.9 2 2 2h14c1.1 0 2-.9 2-2V5c0-1.1-.9-2-2-2zM9 17H7v-7h2v7zm4 0h-2V7h2v10zm4 0h-2v-4h2v4z\"/>\n",
              "    </g>\n",
              "</svg>\n",
              "  </button>\n",
              "\n",
              "<style>\n",
              "  .colab-df-quickchart {\n",
              "      --bg-color: #E8F0FE;\n",
              "      --fill-color: #1967D2;\n",
              "      --hover-bg-color: #E2EBFA;\n",
              "      --hover-fill-color: #174EA6;\n",
              "      --disabled-fill-color: #AAA;\n",
              "      --disabled-bg-color: #DDD;\n",
              "  }\n",
              "\n",
              "  [theme=dark] .colab-df-quickchart {\n",
              "      --bg-color: #3B4455;\n",
              "      --fill-color: #D2E3FC;\n",
              "      --hover-bg-color: #434B5C;\n",
              "      --hover-fill-color: #FFFFFF;\n",
              "      --disabled-bg-color: #3B4455;\n",
              "      --disabled-fill-color: #666;\n",
              "  }\n",
              "\n",
              "  .colab-df-quickchart {\n",
              "    background-color: var(--bg-color);\n",
              "    border: none;\n",
              "    border-radius: 50%;\n",
              "    cursor: pointer;\n",
              "    display: none;\n",
              "    fill: var(--fill-color);\n",
              "    height: 32px;\n",
              "    padding: 0;\n",
              "    width: 32px;\n",
              "  }\n",
              "\n",
              "  .colab-df-quickchart:hover {\n",
              "    background-color: var(--hover-bg-color);\n",
              "    box-shadow: 0 1px 2px rgba(60, 64, 67, 0.3), 0 1px 3px 1px rgba(60, 64, 67, 0.15);\n",
              "    fill: var(--button-hover-fill-color);\n",
              "  }\n",
              "\n",
              "  .colab-df-quickchart-complete:disabled,\n",
              "  .colab-df-quickchart-complete:disabled:hover {\n",
              "    background-color: var(--disabled-bg-color);\n",
              "    fill: var(--disabled-fill-color);\n",
              "    box-shadow: none;\n",
              "  }\n",
              "\n",
              "  .colab-df-spinner {\n",
              "    border: 2px solid var(--fill-color);\n",
              "    border-color: transparent;\n",
              "    border-bottom-color: var(--fill-color);\n",
              "    animation:\n",
              "      spin 1s steps(1) infinite;\n",
              "  }\n",
              "\n",
              "  @keyframes spin {\n",
              "    0% {\n",
              "      border-color: transparent;\n",
              "      border-bottom-color: var(--fill-color);\n",
              "      border-left-color: var(--fill-color);\n",
              "    }\n",
              "    20% {\n",
              "      border-color: transparent;\n",
              "      border-left-color: var(--fill-color);\n",
              "      border-top-color: var(--fill-color);\n",
              "    }\n",
              "    30% {\n",
              "      border-color: transparent;\n",
              "      border-left-color: var(--fill-color);\n",
              "      border-top-color: var(--fill-color);\n",
              "      border-right-color: var(--fill-color);\n",
              "    }\n",
              "    40% {\n",
              "      border-color: transparent;\n",
              "      border-right-color: var(--fill-color);\n",
              "      border-top-color: var(--fill-color);\n",
              "    }\n",
              "    60% {\n",
              "      border-color: transparent;\n",
              "      border-right-color: var(--fill-color);\n",
              "    }\n",
              "    80% {\n",
              "      border-color: transparent;\n",
              "      border-right-color: var(--fill-color);\n",
              "      border-bottom-color: var(--fill-color);\n",
              "    }\n",
              "    90% {\n",
              "      border-color: transparent;\n",
              "      border-bottom-color: var(--fill-color);\n",
              "    }\n",
              "  }\n",
              "</style>\n",
              "\n",
              "  <script>\n",
              "    async function quickchart(key) {\n",
              "      const quickchartButtonEl =\n",
              "        document.querySelector('#' + key + ' button');\n",
              "      quickchartButtonEl.disabled = true;  // To prevent multiple clicks.\n",
              "      quickchartButtonEl.classList.add('colab-df-spinner');\n",
              "      try {\n",
              "        const charts = await google.colab.kernel.invokeFunction(\n",
              "            'suggestCharts', [key], {});\n",
              "      } catch (error) {\n",
              "        console.error('Error during call to suggestCharts:', error);\n",
              "      }\n",
              "      quickchartButtonEl.classList.remove('colab-df-spinner');\n",
              "      quickchartButtonEl.classList.add('colab-df-quickchart-complete');\n",
              "    }\n",
              "    (() => {\n",
              "      let quickchartButtonEl =\n",
              "        document.querySelector('#df-2c197b4e-610b-4506-b263-c66708bd2dbf button');\n",
              "      quickchartButtonEl.style.display =\n",
              "        google.colab.kernel.accessAllowed ? 'block' : 'none';\n",
              "    })();\n",
              "  </script>\n",
              "</div>\n",
              "\n",
              "    </div>\n",
              "  </div>\n"
            ],
            "application/vnd.google.colaboratory.intrinsic+json": {
              "type": "dataframe"
            }
          },
          "metadata": {},
          "execution_count": 7
        }
      ],
      "source": [
        "df.dropna(subset=['fund_return_1year', 'fund_return_3years', 'fund_return_5years','fund_return_ytd'])"
      ]
    },
    {
      "cell_type": "code",
      "execution_count": null,
      "metadata": {
        "id": "K_d1h11y5M_S"
      },
      "outputs": [],
      "source": []
    },
    {
      "cell_type": "code",
      "execution_count": null,
      "metadata": {
        "id": "eeWXJhzm1HaT"
      },
      "outputs": [],
      "source": [
        "#d=abs_corr['fund_return_1year'].sort_values()"
      ]
    },
    {
      "cell_type": "code",
      "execution_count": null,
      "metadata": {
        "id": "HEAei2_35T6E"
      },
      "outputs": [],
      "source": [
        "#asset_bonds,week52_high_low_change_perc,asset_stocks,fund_mean_annual_return_5years,fund_return_last_bear_market"
      ]
    },
    {
      "cell_type": "markdown",
      "metadata": {
        "id": "7yCB5Psd9CgC"
      },
      "source": [
        "**build a model to predict next year return given historical returns and other ratios**"
      ]
    },
    {
      "cell_type": "code",
      "execution_count": null,
      "metadata": {
        "id": "-i1abXI98szB"
      },
      "outputs": [],
      "source": [
        "fundreturns= df[['fund_return_2020',\n",
        "                 'fund_return_2019',\n",
        "                 'fund_return_2018',\n",
        "                 'fund_return_2017',\n",
        "                 'fund_return_2016',\n",
        "                 'fund_return_2015',\n",
        "                 'fund_return_2014',\n",
        "                 'fund_return_2013',\n",
        "                 'fund_return_2012',\n",
        "                 'fund_return_2011',\n",
        "                 'fund_return_2010',\n",
        "                 'fund_annual_report_net_expense_ratio',\n",
        "                 'fund_price_earning_ratio',\n",
        "                 'fund_price_book_ratio',\n",
        "                 'fund_price_sales_ratio',\n",
        "                 'fund_sharpe_ratio_5years',\n",
        "                 'fund_treynor_ratio_5years',\n",
        "                 'fund_alpha_5years',\n",
        "                 'fund_sharpe_ratio_3years',\n",
        "                 'fund_treynor_ratio_3years',\n",
        "                 'fund_alpha_3years',\n",
        "                 'fund_return_1year'\n",
        "                 #'fund_return_3years',\n",
        "                 #'fund_return_2009',\n",
        "                 #'fund_return_2008',\n",
        "                 #'fund_return_2007',\n",
        "                 #'fund_return_2006',\n",
        "                 #'fund_return_2005',\n",
        "                 #'fund_return_2004',\n",
        "                 #'fund_return_2003',\n",
        "                 #'fund_return_2002',\n",
        "                 #'fund_return_2001',\n",
        "                 #'fund_return_2000',\n",
        "                 ]]\n",
        "fr=fundreturns.dropna()"
      ]
    },
    {
      "cell_type": "code",
      "execution_count": null,
      "metadata": {
        "id": "0RPjtpjd9X5a"
      },
      "outputs": [],
      "source": [
        "from sklearn.linear_model import LinearRegression, Lasso, Ridge\n",
        "from sklearn.model_selection import train_test_split\n",
        "from sklearn.metrics import mean_squared_error, r2_score"
      ]
    },
    {
      "cell_type": "markdown",
      "metadata": {
        "id": "0r8c7rqtoOrI"
      },
      "source": [
        "LINEAR REGRESSION"
      ]
    },
    {
      "cell_type": "code",
      "execution_count": null,
      "metadata": {
        "id": "vngaWmMv7pMJ"
      },
      "outputs": [],
      "source": [
        "# @title\n",
        "#y = fr['fund_return_ytd']\n",
        "#X= fr.drop(['fund_return_ytd'], axis = 1)\n",
        "#\n",
        "#X_train, X_test, y_train, y_test = train_test_split(X, y, test_size=0.2)  # 20% for testing\n",
        "#\n",
        "#\n",
        "## Create and train the model\n",
        "#model = LinearRegression()\n",
        "#model.fit(X_train, y_train)\n",
        "#\n",
        "## Make predictions on test data\n",
        "##y_pred = model.predict(X_test)\n",
        "#\n",
        "## Evaluate the model (replace with your desired evaluation metric)\n",
        "#from sklearn.metrics import mean_squared_error, r2_score\n",
        "#mse_train = mean_squared_error(y_train, model.predict(X_train))\n",
        "#r2_train = r2_score(y_train, model.predict(X_train))\n",
        "#print(f\"Mean squared error on train data: {mse_train}\")\n",
        "#print(f\"r squared on train data: {r2_train}\")\n",
        "#\n",
        "#mse_test = mean_squared_error(y_test, model.predict(X_test))\n",
        "#r2_test = r2_score(y_test, model.predict(X_test))\n",
        "#print(f\"Mean squared error on test data: {mse_test}\")\n",
        "#\n",
        "#print(f\"r squared on test data: {r2_test}\")"
      ]
    },
    {
      "cell_type": "markdown",
      "metadata": {
        "id": "RbAwsw9PoQXv"
      },
      "source": [
        "LASSO"
      ]
    },
    {
      "cell_type": "markdown",
      "metadata": {
        "id": "DPylRnvVtJZG"
      },
      "source": [
        "model performs best with extremely low alphas"
      ]
    },
    {
      "cell_type": "code",
      "execution_count": null,
      "metadata": {
        "cellView": "form",
        "id": "G8N_RIk_92Qn"
      },
      "outputs": [],
      "source": [
        "# @title\n",
        "#y = fr['fund_return_ytd']\n",
        "#X= fr.drop(['fund_return_ytd'], axis = 1)\n",
        "## Split data into training and testing sets\n",
        "#X_train, X_test, y_train, y_test = train_test_split(X, y, test_size=0.2, random_state=42)\n",
        "#\n",
        "## Create a Lasso regression model\n",
        "#lasso = Lasso(alpha=0.001)  # Adjust alpha (regularization strength) as needed\n",
        "#\n",
        "## Train the model\n",
        "#lasso.fit(X_train, y_train)\n",
        "#\n",
        "## Make predictions on the testing set (optional)\n",
        "#y_pred = lasso.predict(X_test)\n",
        "#\n",
        "#mse_train = mean_squared_error(y_train, lasso.predict(X_train))\n",
        "#r2_train = r2_score(y_train, lasso.predict(X_train))\n",
        "#print(f\"Mean squared error on train data: {mse_train}\")\n",
        "#print(f\"r squared on train data: {r2_train}\")\n",
        "#\n",
        "#mse_test = mean_squared_error(y_test, lasso.predict(X_test))\n",
        "#r2_test = r2_score(y_test, lasso.predict(X_test))\n",
        "#print(f\"Mean squared error on test data: {mse_test}\")\n",
        "#\n",
        "#print(f\"r squared on test data: {r2_test}\")"
      ]
    },
    {
      "cell_type": "markdown",
      "metadata": {
        "id": "_s56z3hOp6-I"
      },
      "source": [
        "RIDGE REGRESSION"
      ]
    },
    {
      "cell_type": "code",
      "execution_count": null,
      "metadata": {
        "cellView": "form",
        "id": "TSYrh8y6pt5V"
      },
      "outputs": [],
      "source": [
        "# @title\n",
        "#y = fr['fund_return_ytd']\n",
        "#X= fr.drop(['fund_return_ytd'], axis = 1)\n",
        "## Split data into training and testing sets\n",
        "#X_train, X_test, y_train, y_test = train_test_split(X, y, test_size=0.2, random_state=42)\n",
        "#\n",
        "#\n",
        "#ridge = Ridge(alpha=0.5)  # Adjust alpha (regularization strength) as needed\n",
        "#\n",
        "## Train the model\n",
        "#ridge.fit(X_train, y_train)\n",
        "#\n",
        "## Make predictions on the testing set (optional)\n",
        "#y_pred = ridge.predict(X_test)\n",
        "#\n",
        "#mse_train = mean_squared_error(y_train, ridge.predict(X_train))\n",
        "#r2_train = r2_score(y_train, ridge.predict(X_train))\n",
        "#print(f\"Mean squared error on train data: {mse_train}\")\n",
        "#print(f\"r squared on train data: {r2_train}\")\n",
        "#\n",
        "#mse_test = mean_squared_error(y_test, ridge.predict(X_test))\n",
        "#r2_test = r2_score(y_test, ridge.predict(X_test))\n",
        "#print(f\"Mean squared error on test data: {mse_test}\")\n",
        "#\n",
        "#print(f\"r squared on test data: {r2_test}\")"
      ]
    },
    {
      "cell_type": "markdown",
      "metadata": {
        "id": "SrzCkGgSqOiu"
      },
      "source": [
        "RANDOM FOREST"
      ]
    },
    {
      "cell_type": "code",
      "execution_count": null,
      "metadata": {
        "id": "bWBmzDvWn3fx"
      },
      "outputs": [],
      "source": [
        "forest=  df[['fund_return_2020',\n",
        "                 'fund_return_2019',\n",
        "                 'fund_return_2018',\n",
        "                 'fund_return_2017',\n",
        "                 'fund_return_2016',\n",
        "                 'fund_return_2015',\n",
        "                 #'fund_return_2014',\n",
        "                 #'fund_return_2013',\n",
        "                 #'fund_return_2012',\n",
        "                 #'fund_return_2011',\n",
        "                 #'fund_return_2010',\n",
        "                 'fund_annual_report_net_expense_ratio',\n",
        "                 'fund_price_earning_ratio',\n",
        "                 'fund_price_book_ratio',\n",
        "                 'fund_price_sales_ratio',\n",
        "                 'fund_sharpe_ratio_5years',\n",
        "                 'fund_treynor_ratio_5years',\n",
        "                 'fund_alpha_5years',\n",
        "                 'fund_sharpe_ratio_3years',\n",
        "                 'fund_treynor_ratio_3years',\n",
        "                 'fund_alpha_3years',\n",
        "                 #fund_beta_3years',\n",
        "                 'fund_beta_5years'\n",
        "                 #fund_return_1year'\n",
        "                 #'fund_return_3years',\n",
        "                 #'fund_return_2009',\n",
        "                 #'fund_return_2008',\n",
        "                 #'fund_return_2007',\n",
        "                 #'fund_return_2006',\n",
        "                 #'fund_return_2005',\n",
        "                 #'fund_return_2004',\n",
        "                 #'fund_return_2003',\n",
        "                 #'fund_return_2002',\n",
        "                 #'fund_return_2001',\n",
        "                 #'fund_return_2000',\n",
        "                 ]]\n",
        "fr=forest.dropna()"
      ]
    },
    {
      "cell_type": "code",
      "execution_count": null,
      "metadata": {
        "id": "B9enj4-gqP7A"
      },
      "outputs": [],
      "source": [
        "\n",
        "from sklearn.ensemble import RandomForestRegressor\n"
      ]
    },
    {
      "cell_type": "markdown",
      "metadata": {
        "id": "WnpyF7-9u7rI"
      },
      "source": [
        "pre tuning test: 0.941, train: 0.991,\n",
        "test: 0.937, train: 0.980"
      ]
    },
    {
      "cell_type": "code",
      "execution_count": null,
      "metadata": {
        "id": "b2GLGegVqEZ9",
        "colab": {
          "base_uri": "https://localhost:8080/"
        },
        "outputId": "2eb99872-a579-436e-a66c-3171ff60c647"
      },
      "outputs": [
        {
          "output_type": "stream",
          "name": "stdout",
          "text": [
            "Mean squared error on train data: 0.0004791447622784874\n",
            "r squared on train data: 0.9814391443384934\n",
            "Mean squared error on test data: 0.00148607199133057\n",
            "r squared on test data: 0.9386774506171166\n"
          ]
        }
      ],
      "source": [
        "# @title\n",
        "y = fr['fund_return_2020']\n",
        "X= fr.drop(['fund_return_2020'], axis = 1)\n",
        "# Split data into training and testing sets\n",
        "X_train, X_test, y_train, y_test = train_test_split(X, y, test_size=0.2, random_state=42)\n",
        "\n",
        "rf = RandomForestRegressor(n_estimators=200, max_depth = 12, min_samples_leaf = 1)  # Adjust parameters as needed\n",
        "\n",
        "# Train the model\n",
        "rf.fit(X_train, y_train)\n",
        "\n",
        "# Make predictions on the testing set (optional)\n",
        "y_pred = rf.predict(X_test)\n",
        "mse_train = mean_squared_error(y_train, rf.predict(X_train))\n",
        "r2_train = r2_score(y_train, rf.predict(X_train))\n",
        "print(f\"Mean squared error on train data: {mse_train}\")\n",
        "print(f\"r squared on train data: {r2_train}\")\n",
        "\n",
        "mse_test = mean_squared_error(y_test, rf.predict(X_test))\n",
        "r2_test = r2_score(y_test, rf.predict(X_test))\n",
        "print(f\"Mean squared error on test data: {mse_test}\")\n",
        "\n",
        "print(f\"r squared on test data: {r2_test}\")\n"
      ]
    },
    {
      "cell_type": "code",
      "execution_count": null,
      "metadata": {
        "id": "8z0YIhhdMDbj"
      },
      "outputs": [],
      "source": [
        "import sklearn\n",
        "import xgboost as xgb\n",
        "from sklearn.model_selection import GridSearchCV"
      ]
    },
    {
      "cell_type": "markdown",
      "metadata": {
        "id": "3yrK52Tlrf7d"
      },
      "source": [
        "Model 1: XGboost, y = fund_return_1year, X is the ratios| R2 = train: .968,test: 0.889"
      ]
    },
    {
      "cell_type": "code",
      "execution_count": null,
      "metadata": {
        "id": "ek9ff4oiKrTU"
      },
      "outputs": [],
      "source": [
        "fiveyear= df[['fund_return_2020',\n",
        "                 'fund_return_2019',\n",
        "                 'fund_return_2018',\n",
        "                 'fund_return_2017',\n",
        "                 'fund_return_2016',\n",
        "                 'fund_return_2015',\n",
        "                 #'fund_return_2014',\n",
        "                 #'fund_return_2013',\n",
        "                 #'fund_return_2012',\n",
        "                 #'fund_return_2011',\n",
        "                 #'fund_return_2010',\n",
        "                 #'fund_annual_report_net_expense_ratio',\n",
        "                 #'fund_price_earning_ratio',\n",
        "                 #'fund_price_book_ratio',\n",
        "                 #'fund_price_sales_ratio',\n",
        "                 #'fund_sharpe_ratio_5years',\n",
        "                 #'fund_treynor_ratio_5years',\n",
        "                 #'fund_alpha_5years',\n",
        "                 #'fund_sharpe_ratio_3years',\n",
        "                 #'fund_treynor_ratio_3years',\n",
        "                 #'fund_alpha_3years',\n",
        "                 ##'fund_beta_3years',\n",
        "                 #'fund_beta_5years',\n",
        "                 #'fund_return_1year'\n",
        "                 #'fund_return_3years',\n",
        "                 #'fund_return_2009',\n",
        "                 #'fund_return_2008',\n",
        "                 #'fund_return_2007',\n",
        "                 #'fund_return_2006',\n",
        "                 #'fund_return_2005',\n",
        "                 #'fund_return_2004',\n",
        "                 #'fund_return_2003',\n",
        "                 #'fund_return_2002',\n",
        "                 #'fund_return_2001',\n",
        "                 #'fund_return_2000',\n",
        "                 ]]\n",
        "fr=fiveyear.dropna()"
      ]
    },
    {
      "cell_type": "code",
      "execution_count": null,
      "metadata": {
        "id": "yt6HASMVrxvN",
        "colab": {
          "base_uri": "https://localhost:8080/"
        },
        "outputId": "ad2cf269-90a5-4be8-9364-7b50cb11029a"
      },
      "outputs": [
        {
          "output_type": "stream",
          "name": "stdout",
          "text": [
            "Mean squared error on train data: 0.00016934929383620543\n",
            "r squared on train data: 0.9940959357968888\n",
            "Mean squared error on test data: 0.008586528190451607\n",
            "r squared on test data: 0.6896644001941062\n"
          ]
        }
      ],
      "source": [
        "\n",
        "y = fr['fund_return_2020']\n",
        "X= fr.drop(['fund_return_2020'], axis = 1)\n",
        "# Split data into training and testing sets\n",
        "X_train, X_test, y_train, y_test = train_test_split(X, y, test_size=0.2, random_state=42)\n",
        "\n",
        "#max_depth=5\n",
        "xg_model = xgb.XGBRegressor(objective='reg:squarederror', learning_rate=0.25, n_estimators=300, max_depth = 7)\n",
        "# Train the model\n",
        "xg_model.fit(X_train, y_train)\n",
        "\n",
        "# Make predictions on the test set\n",
        "y_pred = xg_model.predict(X_test)\n",
        "\n",
        "mse_train = mean_squared_error(y_train, xg_model.predict(X_train))\n",
        "r2_train = r2_score(y_train, xg_model.predict(X_train))\n",
        "print(f\"Mean squared error on train data: {mse_train}\")\n",
        "print(f\"r squared on train data: {r2_train}\")\n",
        "\n",
        "mse_test = mean_squared_error(y_test, xg_model.predict(X_test))\n",
        "r2_test = r2_score(y_test, xg_model.predict(X_test))\n",
        "print(f\"Mean squared error on test data: {mse_test}\")\n",
        "\n",
        "print(f\"r squared on test data: {r2_test}\")\n"
      ]
    },
    {
      "cell_type": "markdown",
      "metadata": {
        "id": "mc-CTajUgbEw"
      },
      "source": [
        "tuning"
      ]
    },
    {
      "cell_type": "code",
      "execution_count": null,
      "metadata": {
        "id": "-FqLFYLleirO"
      },
      "outputs": [],
      "source": [
        "param_grid = {\n",
        "    'n_estimators': [200, 250, 300],\n",
        "    'max_depth': [7,9,11],\n",
        "    'learning_rate': [0.2, 0.25, 0.3]\n",
        "}"
      ]
    },
    {
      "cell_type": "code",
      "execution_count": null,
      "metadata": {
        "id": "kaGkwU-igcPH",
        "colab": {
          "base_uri": "https://localhost:8080/"
        },
        "outputId": "0120cb05-c5d4-44c7-dffc-8e3fcf6a4b70"
      },
      "outputs": [
        {
          "output_type": "stream",
          "name": "stdout",
          "text": [
            "Fitting 5 folds for each of 27 candidates, totalling 135 fits\n",
            "[CV] END ...learning_rate=0.2, max_depth=7, n_estimators=200; total time=   0.8s\n",
            "[CV] END ...learning_rate=0.2, max_depth=7, n_estimators=200; total time=   0.8s\n",
            "[CV] END ...learning_rate=0.2, max_depth=7, n_estimators=200; total time=   0.7s\n",
            "[CV] END ...learning_rate=0.2, max_depth=7, n_estimators=200; total time=   3.3s\n",
            "[CV] END ...learning_rate=0.2, max_depth=7, n_estimators=200; total time=   1.8s\n",
            "[CV] END ...learning_rate=0.2, max_depth=7, n_estimators=250; total time=   0.9s\n",
            "[CV] END ...learning_rate=0.2, max_depth=7, n_estimators=250; total time=   0.9s\n",
            "[CV] END ...learning_rate=0.2, max_depth=7, n_estimators=250; total time=   1.0s\n",
            "[CV] END ...learning_rate=0.2, max_depth=7, n_estimators=250; total time=   0.9s\n",
            "[CV] END ...learning_rate=0.2, max_depth=7, n_estimators=250; total time=   0.9s\n",
            "[CV] END ...learning_rate=0.2, max_depth=7, n_estimators=300; total time=   1.1s\n",
            "[CV] END ...learning_rate=0.2, max_depth=7, n_estimators=300; total time=   1.1s\n",
            "[CV] END ...learning_rate=0.2, max_depth=7, n_estimators=300; total time=   1.1s\n",
            "[CV] END ...learning_rate=0.2, max_depth=7, n_estimators=300; total time=   1.1s\n",
            "[CV] END ...learning_rate=0.2, max_depth=7, n_estimators=300; total time=   4.8s\n",
            "[CV] END ...learning_rate=0.2, max_depth=9, n_estimators=200; total time=   1.5s\n",
            "[CV] END ...learning_rate=0.2, max_depth=9, n_estimators=200; total time=   1.5s\n",
            "[CV] END ...learning_rate=0.2, max_depth=9, n_estimators=200; total time=   1.4s\n",
            "[CV] END ...learning_rate=0.2, max_depth=9, n_estimators=200; total time=   1.5s\n",
            "[CV] END ...learning_rate=0.2, max_depth=9, n_estimators=200; total time=   1.5s\n",
            "[CV] END ...learning_rate=0.2, max_depth=9, n_estimators=250; total time=   1.8s\n",
            "[CV] END ...learning_rate=0.2, max_depth=9, n_estimators=250; total time=   5.6s\n",
            "[CV] END ...learning_rate=0.2, max_depth=9, n_estimators=250; total time=   1.8s\n",
            "[CV] END ...learning_rate=0.2, max_depth=9, n_estimators=250; total time=   1.8s\n",
            "[CV] END ...learning_rate=0.2, max_depth=9, n_estimators=250; total time=   1.8s\n",
            "[CV] END ...learning_rate=0.2, max_depth=9, n_estimators=300; total time=   2.2s\n",
            "[CV] END ...learning_rate=0.2, max_depth=9, n_estimators=300; total time=   6.2s\n",
            "[CV] END ...learning_rate=0.2, max_depth=9, n_estimators=300; total time=   2.1s\n",
            "[CV] END ...learning_rate=0.2, max_depth=9, n_estimators=300; total time=   2.2s\n",
            "[CV] END ...learning_rate=0.2, max_depth=9, n_estimators=300; total time=   2.2s\n",
            "[CV] END ..learning_rate=0.2, max_depth=11, n_estimators=200; total time=   2.4s\n",
            "[CV] END ..learning_rate=0.2, max_depth=11, n_estimators=200; total time=   5.9s\n",
            "[CV] END ..learning_rate=0.2, max_depth=11, n_estimators=200; total time=   3.6s\n",
            "[CV] END ..learning_rate=0.2, max_depth=11, n_estimators=200; total time=   2.3s\n",
            "[CV] END ..learning_rate=0.2, max_depth=11, n_estimators=200; total time=   2.3s\n",
            "[CV] END ..learning_rate=0.2, max_depth=11, n_estimators=250; total time=   6.0s\n",
            "[CV] END ..learning_rate=0.2, max_depth=11, n_estimators=250; total time=   2.3s\n",
            "[CV] END ..learning_rate=0.2, max_depth=11, n_estimators=250; total time=   2.3s\n",
            "[CV] END ..learning_rate=0.2, max_depth=11, n_estimators=250; total time=   2.4s\n",
            "[CV] END ..learning_rate=0.2, max_depth=11, n_estimators=250; total time=   6.0s\n",
            "[CV] END ..learning_rate=0.2, max_depth=11, n_estimators=300; total time=   2.3s\n",
            "[CV] END ..learning_rate=0.2, max_depth=11, n_estimators=300; total time=   2.3s\n",
            "[CV] END ..learning_rate=0.2, max_depth=11, n_estimators=300; total time=   2.2s\n",
            "[CV] END ..learning_rate=0.2, max_depth=11, n_estimators=300; total time=   2.3s\n",
            "[CV] END ..learning_rate=0.2, max_depth=11, n_estimators=300; total time=   6.2s\n",
            "[CV] END ..learning_rate=0.25, max_depth=7, n_estimators=200; total time=   0.7s\n",
            "[CV] END ..learning_rate=0.25, max_depth=7, n_estimators=200; total time=   0.8s\n",
            "[CV] END ..learning_rate=0.25, max_depth=7, n_estimators=200; total time=   0.7s\n",
            "[CV] END ..learning_rate=0.25, max_depth=7, n_estimators=200; total time=   0.7s\n",
            "[CV] END ..learning_rate=0.25, max_depth=7, n_estimators=200; total time=   0.8s\n",
            "[CV] END ..learning_rate=0.25, max_depth=7, n_estimators=250; total time=   0.9s\n",
            "[CV] END ..learning_rate=0.25, max_depth=7, n_estimators=250; total time=   0.9s\n",
            "[CV] END ..learning_rate=0.25, max_depth=7, n_estimators=250; total time=   0.9s\n",
            "[CV] END ..learning_rate=0.25, max_depth=7, n_estimators=250; total time=   0.9s\n",
            "[CV] END ..learning_rate=0.25, max_depth=7, n_estimators=250; total time=   0.9s\n",
            "[CV] END ..learning_rate=0.25, max_depth=7, n_estimators=300; total time=   4.9s\n",
            "[CV] END ..learning_rate=0.25, max_depth=7, n_estimators=300; total time=   1.1s\n",
            "[CV] END ..learning_rate=0.25, max_depth=7, n_estimators=300; total time=   1.1s\n",
            "[CV] END ..learning_rate=0.25, max_depth=7, n_estimators=300; total time=   1.1s\n",
            "[CV] END ..learning_rate=0.25, max_depth=7, n_estimators=300; total time=   1.1s\n",
            "[CV] END ..learning_rate=0.25, max_depth=9, n_estimators=200; total time=   1.5s\n",
            "[CV] END ..learning_rate=0.25, max_depth=9, n_estimators=200; total time=   1.5s\n",
            "[CV] END ..learning_rate=0.25, max_depth=9, n_estimators=200; total time=   1.5s\n",
            "[CV] END ..learning_rate=0.25, max_depth=9, n_estimators=200; total time=   5.2s\n",
            "[CV] END ..learning_rate=0.25, max_depth=9, n_estimators=200; total time=   1.5s\n",
            "[CV] END ..learning_rate=0.25, max_depth=9, n_estimators=250; total time=   1.8s\n",
            "[CV] END ..learning_rate=0.25, max_depth=9, n_estimators=250; total time=   1.9s\n",
            "[CV] END ..learning_rate=0.25, max_depth=9, n_estimators=250; total time=   1.9s\n",
            "[CV] END ..learning_rate=0.25, max_depth=9, n_estimators=250; total time=   1.9s\n",
            "[CV] END ..learning_rate=0.25, max_depth=9, n_estimators=250; total time=   5.7s\n",
            "[CV] END ..learning_rate=0.25, max_depth=9, n_estimators=300; total time=   2.1s\n",
            "[CV] END ..learning_rate=0.25, max_depth=9, n_estimators=300; total time=   1.9s\n",
            "[CV] END ..learning_rate=0.25, max_depth=9, n_estimators=300; total time=   2.0s\n",
            "[CV] END ..learning_rate=0.25, max_depth=9, n_estimators=300; total time=   1.9s\n",
            "[CV] END ..learning_rate=0.25, max_depth=9, n_estimators=300; total time=   5.6s\n",
            "[CV] END .learning_rate=0.25, max_depth=11, n_estimators=200; total time=   2.0s\n",
            "[CV] END .learning_rate=0.25, max_depth=11, n_estimators=200; total time=   1.9s\n",
            "[CV] END .learning_rate=0.25, max_depth=11, n_estimators=200; total time=   2.0s\n",
            "[CV] END .learning_rate=0.25, max_depth=11, n_estimators=200; total time=   1.9s\n",
            "[CV] END .learning_rate=0.25, max_depth=11, n_estimators=200; total time=   2.1s\n",
            "[CV] END .learning_rate=0.25, max_depth=11, n_estimators=250; total time=   5.4s\n",
            "[CV] END .learning_rate=0.25, max_depth=11, n_estimators=250; total time=   1.9s\n",
            "[CV] END .learning_rate=0.25, max_depth=11, n_estimators=250; total time=   2.0s\n",
            "[CV] END .learning_rate=0.25, max_depth=11, n_estimators=250; total time=   1.9s\n",
            "[CV] END .learning_rate=0.25, max_depth=11, n_estimators=250; total time=   2.0s\n",
            "[CV] END .learning_rate=0.25, max_depth=11, n_estimators=300; total time=   5.6s\n",
            "[CV] END .learning_rate=0.25, max_depth=11, n_estimators=300; total time=   1.9s\n",
            "[CV] END .learning_rate=0.25, max_depth=11, n_estimators=300; total time=   2.0s\n",
            "[CV] END .learning_rate=0.25, max_depth=11, n_estimators=300; total time=   1.9s\n",
            "[CV] END .learning_rate=0.25, max_depth=11, n_estimators=300; total time=   1.9s\n",
            "[CV] END ...learning_rate=0.3, max_depth=7, n_estimators=200; total time=   0.8s\n",
            "[CV] END ...learning_rate=0.3, max_depth=7, n_estimators=200; total time=   2.8s\n",
            "[CV] END ...learning_rate=0.3, max_depth=7, n_estimators=200; total time=   2.4s\n",
            "[CV] END ...learning_rate=0.3, max_depth=7, n_estimators=200; total time=   0.8s\n",
            "[CV] END ...learning_rate=0.3, max_depth=7, n_estimators=200; total time=   0.7s\n",
            "[CV] END ...learning_rate=0.3, max_depth=7, n_estimators=250; total time=   0.9s\n",
            "[CV] END ...learning_rate=0.3, max_depth=7, n_estimators=250; total time=   0.9s\n",
            "[CV] END ...learning_rate=0.3, max_depth=7, n_estimators=250; total time=   0.9s\n",
            "[CV] END ...learning_rate=0.3, max_depth=7, n_estimators=250; total time=   0.9s\n",
            "[CV] END ...learning_rate=0.3, max_depth=7, n_estimators=250; total time=   0.9s\n",
            "[CV] END ...learning_rate=0.3, max_depth=7, n_estimators=300; total time=   1.1s\n",
            "[CV] END ...learning_rate=0.3, max_depth=7, n_estimators=300; total time=   1.1s\n",
            "[CV] END ...learning_rate=0.3, max_depth=7, n_estimators=300; total time=   1.1s\n",
            "[CV] END ...learning_rate=0.3, max_depth=7, n_estimators=300; total time=   4.8s\n",
            "[CV] END ...learning_rate=0.3, max_depth=7, n_estimators=300; total time=   1.1s\n",
            "[CV] END ...learning_rate=0.3, max_depth=9, n_estimators=200; total time=   1.5s\n",
            "[CV] END ...learning_rate=0.3, max_depth=9, n_estimators=200; total time=   1.5s\n",
            "[CV] END ...learning_rate=0.3, max_depth=9, n_estimators=200; total time=   1.5s\n",
            "[CV] END ...learning_rate=0.3, max_depth=9, n_estimators=200; total time=   1.5s\n",
            "[CV] END ...learning_rate=0.3, max_depth=9, n_estimators=200; total time=   1.5s\n",
            "[CV] END ...learning_rate=0.3, max_depth=9, n_estimators=250; total time=   5.2s\n",
            "[CV] END ...learning_rate=0.3, max_depth=9, n_estimators=250; total time=   1.6s\n",
            "[CV] END ...learning_rate=0.3, max_depth=9, n_estimators=250; total time=   1.6s\n",
            "[CV] END ...learning_rate=0.3, max_depth=9, n_estimators=250; total time=   1.6s\n",
            "[CV] END ...learning_rate=0.3, max_depth=9, n_estimators=250; total time=   1.7s\n",
            "[CV] END ...learning_rate=0.3, max_depth=9, n_estimators=300; total time=   1.6s\n",
            "[CV] END ...learning_rate=0.3, max_depth=9, n_estimators=300; total time=   1.7s\n",
            "[CV] END ...learning_rate=0.3, max_depth=9, n_estimators=300; total time=   5.1s\n",
            "[CV] END ...learning_rate=0.3, max_depth=9, n_estimators=300; total time=   1.7s\n",
            "[CV] END ...learning_rate=0.3, max_depth=9, n_estimators=300; total time=   1.6s\n",
            "[CV] END ..learning_rate=0.3, max_depth=11, n_estimators=200; total time=   1.6s\n",
            "[CV] END ..learning_rate=0.3, max_depth=11, n_estimators=200; total time=   1.6s\n",
            "[CV] END ..learning_rate=0.3, max_depth=11, n_estimators=200; total time=   1.7s\n",
            "[CV] END ..learning_rate=0.3, max_depth=11, n_estimators=200; total time=   5.3s\n",
            "[CV] END ..learning_rate=0.3, max_depth=11, n_estimators=200; total time=   1.7s\n",
            "[CV] END ..learning_rate=0.3, max_depth=11, n_estimators=250; total time=   1.7s\n",
            "[CV] END ..learning_rate=0.3, max_depth=11, n_estimators=250; total time=   1.7s\n",
            "[CV] END ..learning_rate=0.3, max_depth=11, n_estimators=250; total time=   1.6s\n",
            "[CV] END ..learning_rate=0.3, max_depth=11, n_estimators=250; total time=   1.7s\n",
            "[CV] END ..learning_rate=0.3, max_depth=11, n_estimators=250; total time=   5.3s\n",
            "[CV] END ..learning_rate=0.3, max_depth=11, n_estimators=300; total time=   1.7s\n",
            "[CV] END ..learning_rate=0.3, max_depth=11, n_estimators=300; total time=   1.7s\n",
            "[CV] END ..learning_rate=0.3, max_depth=11, n_estimators=300; total time=   1.6s\n",
            "[CV] END ..learning_rate=0.3, max_depth=11, n_estimators=300; total time=   1.7s\n",
            "[CV] END ..learning_rate=0.3, max_depth=11, n_estimators=300; total time=   1.7s\n",
            "best parameter found  {'learning_rate': 0.25, 'max_depth': 7, 'n_estimators': 300}\n"
          ]
        }
      ],
      "source": [
        "grid_search = GridSearchCV(estimator= xg_model, param_grid=param_grid, scoring = 'r2', cv=5, verbose =2)\n",
        "grid_search.fit(X_train, y_train)\n",
        "\n",
        "print('best parameter found ', grid_search.best_params_)\n",
        "#print('highest r squared ', (grid_search.best_score))"
      ]
    },
    {
      "cell_type": "markdown",
      "metadata": {
        "id": "pWKfzPIwh9qX"
      },
      "source": [
        "best params: lr = 0.25, maxd = 7, ne = 300"
      ]
    },
    {
      "cell_type": "markdown",
      "metadata": {
        "id": "5MWHRZVoLtJF"
      },
      "source": [
        "Model 2: XGboost, y = fund_return_2020, X is only the returns from previous 5 years| R2 = train: 0.906,test:0.670"
      ]
    },
    {
      "cell_type": "markdown",
      "metadata": {
        "id": "NPnabnlMjd_8"
      },
      "source": [
        "model4: XGBOOST, y = fund_return_2020, X is ratios + returns from 5 years: r2 train = 0.998, test = 0.9617: pre-tuning"
      ]
    },
    {
      "cell_type": "code",
      "execution_count": null,
      "metadata": {
        "id": "HzdLDxtKLlu8"
      },
      "outputs": [],
      "source": [
        "fundreturns5= df[['fund_symbol',\n",
        "                 #'fund_return_ytd',\n",
        "                 'fund_return_2020',\n",
        "                 'fund_return_2019',\n",
        "                 'fund_return_2018',\n",
        "                 'fund_return_2017',\n",
        "                 'fund_return_2016',\n",
        "                 'fund_return_2015',\n",
        "                 #'fund_return_2014',\n",
        "                 #'fund_return_2013',\n",
        "                 #'fund_return_2012',\n",
        "                 #'fund_return_2011',\n",
        "                 #'fund_return_2010',\n",
        "                 'fund_annual_report_net_expense_ratio',\n",
        "                 'fund_price_earning_ratio',\n",
        "                 'fund_price_book_ratio',\n",
        "                 'fund_price_sales_ratio',\n",
        "                 'fund_sharpe_ratio_5years',\n",
        "                 'fund_treynor_ratio_5years',\n",
        "                 'fund_alpha_5years',\n",
        "                 'fund_sharpe_ratio_3years',\n",
        "                 'fund_treynor_ratio_3years',\n",
        "                 'fund_alpha_3years',\n",
        "                 #fund_beta_3years',\n",
        "                 'fund_beta_5years'\n",
        "                 #fund_return_1year'\n",
        "                 #'fund_return_3years',\n",
        "                 #'fund_return_2009',\n",
        "                 #'fund_return_2008',\n",
        "                 #'fund_return_2007',\n",
        "                 #'fund_return_2006',\n",
        "                 #'fund_return_2005',\n",
        "                 #'fund_return_2004',\n",
        "                 #'fund_return_2003',\n",
        "                 #'fund_return_2002',\n",
        "                 #'fund_return_2001',\n",
        "                 #'fund_return_2000',\n",
        "                 ]]\n",
        "fr=fundreturns5.dropna()"
      ]
    },
    {
      "cell_type": "code",
      "execution_count": null,
      "metadata": {
        "id": "jc4tgTaCL88V",
        "colab": {
          "base_uri": "https://localhost:8080/"
        },
        "outputId": "07bdb40d-0370-42e6-c8a6-396e1736d6f0"
      },
      "outputs": [
        {
          "output_type": "stream",
          "name": "stdout",
          "text": [
            "Mean squared error on train data: 4.687375530736042e-05\n",
            "r squared on train data: 0.9981842293288661\n",
            "Mean squared error on test data: 0.0009271542610852308\n",
            "r squared on test data: 0.9617411112700915\n"
          ]
        }
      ],
      "source": [
        "\n",
        "y = fr['fund_return_2020']\n",
        "X= fr.drop(['fund_return_2020','fund_symbol'], axis = 1)\n",
        "# Split data into training and testing sets\n",
        "X_train, X_test, y_train, y_test = train_test_split(X, y, test_size=0.2, random_state=42)\n",
        "\n",
        "#max_depth=5\n",
        "xg_model = xgb.XGBRegressor(objective='reg:squarederror', learning_rate=0.2, n_estimators=400, max_depth= 5)\n",
        "# Train the model\n",
        "xg_model.fit(X_train, y_train)\n",
        "\n",
        "# Make predictions on the test set\n",
        "y_pred = xg_model.predict(X_test)\n",
        "\n",
        "mse_train = mean_squared_error(y_train, xg_model.predict(X_train))\n",
        "r2_train = r2_score(y_train, xg_model.predict(X_train))\n",
        "print(f\"Mean squared error on train data: {mse_train}\")\n",
        "print(f\"r squared on train data: {r2_train}\")\n",
        "\n",
        "mse_test = mean_squared_error(y_test, xg_model.predict(X_test))\n",
        "r2_test = r2_score(y_test, xg_model.predict(X_test))\n",
        "print(f\"Mean squared error on test data: {mse_test}\")\n",
        "\n",
        "print(f\"r squared on test data: {r2_test}\")\n"
      ]
    },
    {
      "cell_type": "markdown",
      "metadata": {
        "id": "E6onCJ3ElqOg"
      },
      "source": [
        "best params: learning rate = 400, learning rate = 0.2, max depth = 5"
      ]
    },
    {
      "cell_type": "markdown",
      "metadata": {
        "id": "qCWBfZztj18d"
      },
      "source": [
        "hyperparameter tuning"
      ]
    },
    {
      "cell_type": "code",
      "execution_count": null,
      "metadata": {
        "id": "LKvvzucHjwqJ",
        "colab": {
          "base_uri": "https://localhost:8080/"
        },
        "outputId": "f43e0dae-1a88-4938-855d-eb704eeb7617"
      },
      "outputs": [
        {
          "output_type": "stream",
          "name": "stdout",
          "text": [
            "Fitting 5 folds for each of 6 candidates, totalling 30 fits\n",
            "[CV] END ...learning_rate=0.2, max_depth=5, n_estimators=350; total time=   1.4s\n",
            "[CV] END ...learning_rate=0.2, max_depth=5, n_estimators=350; total time=   1.3s\n",
            "[CV] END ...learning_rate=0.2, max_depth=5, n_estimators=350; total time=   1.3s\n",
            "[CV] END ...learning_rate=0.2, max_depth=5, n_estimators=350; total time=   1.3s\n",
            "[CV] END ...learning_rate=0.2, max_depth=5, n_estimators=350; total time=   1.3s\n",
            "[CV] END ...learning_rate=0.2, max_depth=5, n_estimators=375; total time=   1.3s\n",
            "[CV] END ...learning_rate=0.2, max_depth=5, n_estimators=375; total time=   5.0s\n",
            "[CV] END ...learning_rate=0.2, max_depth=5, n_estimators=375; total time=   1.4s\n",
            "[CV] END ...learning_rate=0.2, max_depth=5, n_estimators=375; total time=   1.4s\n",
            "[CV] END ...learning_rate=0.2, max_depth=5, n_estimators=375; total time=   1.4s\n",
            "[CV] END ...learning_rate=0.2, max_depth=5, n_estimators=400; total time=   1.5s\n",
            "[CV] END ...learning_rate=0.2, max_depth=5, n_estimators=400; total time=   1.5s\n",
            "[CV] END ...learning_rate=0.2, max_depth=5, n_estimators=400; total time=   1.4s\n",
            "[CV] END ...learning_rate=0.2, max_depth=5, n_estimators=400; total time=   5.2s\n",
            "[CV] END ...learning_rate=0.2, max_depth=5, n_estimators=400; total time=   1.5s\n",
            "[CV] END ...learning_rate=0.2, max_depth=6, n_estimators=350; total time=   2.1s\n",
            "[CV] END ...learning_rate=0.2, max_depth=6, n_estimators=350; total time=   2.1s\n",
            "[CV] END ...learning_rate=0.2, max_depth=6, n_estimators=350; total time=   2.1s\n",
            "[CV] END ...learning_rate=0.2, max_depth=6, n_estimators=350; total time=   2.1s\n",
            "[CV] END ...learning_rate=0.2, max_depth=6, n_estimators=350; total time=   5.7s\n",
            "[CV] END ...learning_rate=0.2, max_depth=6, n_estimators=375; total time=   2.2s\n",
            "[CV] END ...learning_rate=0.2, max_depth=6, n_estimators=375; total time=   2.2s\n",
            "[CV] END ...learning_rate=0.2, max_depth=6, n_estimators=375; total time=   2.3s\n",
            "[CV] END ...learning_rate=0.2, max_depth=6, n_estimators=375; total time=   4.5s\n",
            "[CV] END ...learning_rate=0.2, max_depth=6, n_estimators=375; total time=   3.5s\n",
            "[CV] END ...learning_rate=0.2, max_depth=6, n_estimators=400; total time=   2.4s\n",
            "[CV] END ...learning_rate=0.2, max_depth=6, n_estimators=400; total time=   2.4s\n",
            "[CV] END ...learning_rate=0.2, max_depth=6, n_estimators=400; total time=   2.3s\n",
            "[CV] END ...learning_rate=0.2, max_depth=6, n_estimators=400; total time=   6.0s\n",
            "[CV] END ...learning_rate=0.2, max_depth=6, n_estimators=400; total time=   2.3s\n",
            "best parameter found  {'learning_rate': 0.2, 'max_depth': 5, 'n_estimators': 400}\n"
          ]
        }
      ],
      "source": [
        "param_grid = {\n",
        "    'n_estimators': [350, 375, 400],\n",
        "    'max_depth': [5,6],\n",
        "    'learning_rate': [0.2]\n",
        "}\n",
        "grid_search = GridSearchCV(estimator= xg_model, param_grid=param_grid, scoring = 'r2', cv=5, verbose =2)\n",
        "grid_search.fit(X_train, y_train)\n",
        "\n",
        "print('best parameter found ', grid_search.best_params_)"
      ]
    },
    {
      "cell_type": "markdown",
      "metadata": {
        "id": "Zms96RNxMgul"
      },
      "source": [
        "\\Model 3: XGboost, y = fund_return_ytd, X is only the ratios years| R2 = train: 0.899,test:0.724.  model 4: xgboost: y = fund_return ytd, X is everything| r2 train: 0.992; test: 0.907"
      ]
    },
    {
      "cell_type": "code",
      "execution_count": null,
      "metadata": {
        "id": "sM87UdqqMhbI"
      },
      "outputs": [],
      "source": [
        "fundreturns3= df[['fund_return_ytd',\n",
        "                 #'fund_return_2019',\n",
        "                 #'fund_return_2018',\n",
        "                 #'fund_return_2017',\n",
        "                 #'fund_return_2016',\n",
        "                 #'fund_return_2015',\n",
        "                 #'fund_return_2014',\n",
        "                 #'fund_return_2013',\n",
        "                 #'fund_return_2012',\n",
        "                 #'fund_return_2011',\n",
        "                 #'fund_return_2010',\n",
        "                 'fund_annual_report_net_expense_ratio',\n",
        "                 'fund_price_earning_ratio',\n",
        "                 'fund_price_book_ratio',\n",
        "                 'fund_price_sales_ratio',\n",
        "                 'fund_sharpe_ratio_5years',\n",
        "                 'fund_treynor_ratio_5years',\n",
        "                 'fund_alpha_5years',\n",
        "                 'fund_sharpe_ratio_3years',\n",
        "                 'fund_treynor_ratio_3years',\n",
        "                 'fund_alpha_3years',\n",
        "                 'fund_beta_3years',\n",
        "                 #fund_return_1year'\n",
        "                 #'fund_return_3years',\n",
        "                 #'fund_return_2009',\n",
        "                 #'fund_return_2008',\n",
        "                 #'fund_return_2007',\n",
        "                 #'fund_return_2006',\n",
        "                 #'fund_return_2005',\n",
        "                 #'fund_return_2004',\n",
        "                 #'fund_return_2003',\n",
        "                 #'fund_return_2002',\n",
        "                 #'fund_return_2001',\n",
        "                 #'fund_return_2000',\n",
        "                 ]]\n",
        "fr=fundreturns3.dropna()"
      ]
    },
    {
      "cell_type": "code",
      "execution_count": null,
      "metadata": {
        "id": "U2RWIArtM2kx",
        "colab": {
          "base_uri": "https://localhost:8080/"
        },
        "outputId": "d81609fd-9014-45da-dd73-ea2f2d16eced"
      },
      "outputs": [
        {
          "output_type": "stream",
          "name": "stdout",
          "text": [
            "Mean squared error on train data: 0.00011237976283509743\n",
            "r squared on train data: 0.9797832291931683\n",
            "Mean squared error on test data: 0.001359427077473193\n",
            "r squared on test data: 0.7857111512264635\n"
          ]
        }
      ],
      "source": [
        "y = fr['fund_return_ytd']\n",
        "X= fr.drop(['fund_return_ytd'], axis = 1)\n",
        "# Split data into training and testing sets\n",
        "X_train, X_test, y_train, y_test = train_test_split(X, y, test_size=0.2, random_state=42)\n",
        "\n",
        "#max_depth=5\n",
        "xg_model = xgb.XGBRegressor(objective='reg:squarederror', learning_rate=0.2, n_estimators=400, max_depth=5)\n",
        "# Train the model\n",
        "xg_model.fit(X_train, y_train)\n",
        "\n",
        "# Make predictions on the test set\n",
        "y_pred = xg_model.predict(X_test)\n",
        "\n",
        "mse_train = mean_squared_error(y_train, xg_model.predict(X_train))\n",
        "r2_train = r2_score(y_train, xg_model.predict(X_train))\n",
        "print(f\"Mean squared error on train data: {mse_train}\")\n",
        "print(f\"r squared on train data: {r2_train}\")\n",
        "\n",
        "mse_test = mean_squared_error(y_test, xg_model.predict(X_test))\n",
        "r2_test = r2_score(y_test, xg_model.predict(X_test))\n",
        "print(f\"Mean squared error on test data: {mse_test}\")\n",
        "\n",
        "print(f\"r squared on test data: {r2_test}\")\n"
      ]
    },
    {
      "cell_type": "code",
      "execution_count": null,
      "metadata": {
        "id": "1nQMABW8tB07",
        "colab": {
          "base_uri": "https://localhost:8080/"
        },
        "outputId": "1335a6a2-86bc-44d4-a154-6a24bfe0d9e6"
      },
      "outputs": [
        {
          "output_type": "stream",
          "name": "stdout",
          "text": [
            "(3073, 11)\n"
          ]
        }
      ],
      "source": [
        "# @title\n",
        "print(X_test.shape)"
      ]
    },
    {
      "cell_type": "code",
      "execution_count": null,
      "metadata": {
        "id": "sGO5z3X5yohj"
      },
      "outputs": [],
      "source": [
        "# @title\n",
        "param_grid = {\n",
        "    'learning_rate': [item/10 for item in range(1, 10, 1)],\n",
        "    'max_depth': range(3, 20, 2),\n",
        "    'min_child_weight': range(1, 5, 1),\n",
        "    'gamma': [item/100 for item in range(0, 20, 5)],\n",
        "    'colsample_bytree': [item/10 for item in range(5, 9, 1)]\n",
        "}"
      ]
    },
    {
      "cell_type": "code",
      "execution_count": null,
      "metadata": {
        "id": "wgBk6qv05bUT",
        "colab": {
          "base_uri": "https://localhost:8080/"
        },
        "outputId": "c2e05b3a-27f3-4fc6-db1e-8da3a5ee7668"
      },
      "outputs": [
        {
          "output_type": "execute_result",
          "data": {
            "text/plain": [
              "{'learning_rate': [0.1, 0.2, 0.3, 0.4, 0.5, 0.6, 0.7, 0.8, 0.9],\n",
              " 'max_depth': range(3, 20, 2),\n",
              " 'min_child_weight': range(1, 5),\n",
              " 'gamma': [0.0, 0.05, 0.1, 0.15],\n",
              " 'colsample_bytree': [0.5, 0.6, 0.7, 0.8]}"
            ]
          },
          "metadata": {},
          "execution_count": 30
        }
      ],
      "source": [
        "# @title\n",
        "param_grid"
      ]
    },
    {
      "cell_type": "markdown",
      "metadata": {
        "id": "QNf1pqLFL8Ci"
      },
      "source": [
        "CAPM CALCULATIONS\n"
      ]
    },
    {
      "cell_type": "code",
      "execution_count": null,
      "metadata": {
        "id": "QNIAMnD75TR2",
        "colab": {
          "base_uri": "https://localhost:8080/",
          "height": 141
        },
        "outputId": "b73c685e-a938-42ef-a16d-87df70855d60"
      },
      "outputs": [
        {
          "output_type": "error",
          "ename": "NameError",
          "evalue": "name 'ratios' is not defined",
          "traceback": [
            "\u001b[0;31m---------------------------------------------------------------------------\u001b[0m",
            "\u001b[0;31mNameError\u001b[0m                                 Traceback (most recent call last)",
            "\u001b[0;32m<ipython-input-31-355f4e8274ee>\u001b[0m in \u001b[0;36m<cell line: 1>\u001b[0;34m()\u001b[0m\n\u001b[0;32m----> 1\u001b[0;31m \u001b[0mratios\u001b[0m\u001b[0;34m.\u001b[0m\u001b[0mhead\u001b[0m\u001b[0;34m(\u001b[0m\u001b[0;34m)\u001b[0m\u001b[0;34m\u001b[0m\u001b[0;34m\u001b[0m\u001b[0m\n\u001b[0m",
            "\u001b[0;31mNameError\u001b[0m: name 'ratios' is not defined"
          ]
        }
      ],
      "source": [
        "ratios.head()"
      ]
    },
    {
      "cell_type": "markdown",
      "metadata": {
        "id": "3m7Y8TZaDUQy"
      },
      "source": [
        "risk free rate 3 year treasury bond = 1.55\n",
        "expected market rewturn would be 16.31%"
      ]
    },
    {
      "cell_type": "code",
      "execution_count": null,
      "metadata": {
        "id": "z3VmRBMbpk9Q"
      },
      "outputs": [],
      "source": [
        "capmlist= df[['fund_return_2020',\n",
        "                 #'fund_return_2019',\n",
        "                 #'fund_return_2018',\n",
        "                 #'fund_return_2017',\n",
        "                 #'fund_return_2016',\n",
        "                 #'fund_return_2015',\n",
        "                 #'fund_return_2014',\n",
        "                 #'fund_return_2013',\n",
        "                 #'fund_return_2012',\n",
        "                 #'fund_return_2011',\n",
        "                 #'fund_return_2010',\n",
        "                 #'fund_annual_report_net_expense_ratio',\n",
        "                 #'fund_price_earning_ratio',\n",
        "                 #'fund_price_book_ratio',\n",
        "                 #'fund_price_sales_ratio',\n",
        "                 #'fund_sharpe_ratio_5years',\n",
        "                 #'fund_treynor_ratio_5years',\n",
        "                 #'fund_alpha_5years',\n",
        "                 #'fund_sharpe_ratio_3years',\n",
        "                 #'fund_treynor_ratio_3years',\n",
        "                 #'fund_alpha_3years',\n",
        "                 'fund_beta_3years',\n",
        "                 #'fund_beta_5years',\n",
        "                 'fund_return_1year'\n",
        "                 ]]\n",
        "fr=fundreturns5.dropna()"
      ]
    },
    {
      "cell_type": "code",
      "execution_count": null,
      "metadata": {
        "id": "c4J33VtQsh3I"
      },
      "outputs": [],
      "source": [
        "from sklearn.metrics import r2_score"
      ]
    },
    {
      "cell_type": "code",
      "execution_count": null,
      "metadata": {
        "id": "hHP1Ymr2_vsr"
      },
      "outputs": [],
      "source": [
        "capmpred= []\n",
        "for i in capmlist['fund_beta_3years']:\n",
        "  #print (1.62 + i*(16.31-1.55))\n",
        "  capmpred.append((1.62 + i*(16.31-1.55))/100)\n",
        "\n",
        "capmlist['CAPM']= capmpred\n",
        "capmlist.head()"
      ]
    },
    {
      "cell_type": "code",
      "execution_count": null,
      "metadata": {
        "id": "jsGlLM8M0Oi4"
      },
      "outputs": [],
      "source": [
        "print(capmlist['CAPM'])"
      ]
    },
    {
      "cell_type": "markdown",
      "metadata": {
        "id": "AQLb1ob7ly9h"
      },
      "source": [
        "intial capm is -0.109 (terrible)"
      ]
    },
    {
      "cell_type": "code",
      "execution_count": null,
      "metadata": {
        "id": "c_KzNZbKFEES"
      },
      "outputs": [],
      "source": [
        "dfc= capmlist.dropna()\n",
        "r2_error = r2_score(dfc['fund_return_2020'], dfc['CAPM'])\n",
        "print(r2_error)"
      ]
    },
    {
      "cell_type": "code",
      "execution_count": null,
      "metadata": {
        "id": "4JUWoJ5hx4i4"
      },
      "outputs": [],
      "source": [
        "sns.scatterplot(x ='fund_return_2020', y = 'CAPM', data = dfc, hue = 'fund_beta_3years')\n"
      ]
    },
    {
      "cell_type": "code",
      "execution_count": null,
      "metadata": {
        "id": "aOXPdx3IWf54"
      },
      "outputs": [],
      "source": [
        "capmlist.shape"
      ]
    },
    {
      "cell_type": "code",
      "execution_count": null,
      "metadata": {
        "id": "GagUmaJS8qHe"
      },
      "outputs": [],
      "source": [
        "#using the fundreturns5 dataframe because I want to put everything into a column in the dataframe"
      ]
    },
    {
      "cell_type": "markdown",
      "metadata": {
        "id": "-zlavRvWB4By"
      },
      "source": [
        "5 year treasury bond in 2015: 1.4"
      ]
    },
    {
      "cell_type": "code",
      "execution_count": null,
      "metadata": {
        "id": "neUlTntGYNHk"
      },
      "outputs": [],
      "source": [
        "capmpred= []\n",
        "dfnew=fundreturns5.dropna()\n",
        "for i in dfnew['fund_beta_5years']:\n",
        "  #print (1.62 + i*(16.31-1.55))\n",
        "  capmpred.append((1.4+ i*(2.1-1.4))/100)\n",
        "\n",
        "dfnew['CAPM']= capmpred\n",
        "dfnew.head()"
      ]
    },
    {
      "cell_type": "code",
      "execution_count": null,
      "metadata": {
        "id": "jaLPRF24oqDp"
      },
      "outputs": [],
      "source": [
        "\n",
        "r2_error = r2_score(dfnew['fund_return_2020'], dfnew['CAPM'])\n",
        "print(r2_error)"
      ]
    },
    {
      "cell_type": "code",
      "execution_count": null,
      "metadata": {
        "id": "kXCwQrybphvd"
      },
      "outputs": [],
      "source": [
        "sns.scatterplot(x ='fund_return_2020', y = 'CAPM', data = dfnew, hue = 'fund_beta_5years')\n"
      ]
    },
    {
      "cell_type": "code",
      "execution_count": null,
      "metadata": {
        "id": "EbcMrszW3Do9"
      },
      "outputs": [],
      "source": []
    },
    {
      "cell_type": "code",
      "execution_count": null,
      "metadata": {
        "id": "Ky65ag7X7XgL"
      },
      "outputs": [],
      "source": [
        "#fundreturns5.head()"
      ]
    },
    {
      "cell_type": "code",
      "execution_count": null,
      "metadata": {
        "id": "LQPAV-JRpssP"
      },
      "outputs": [],
      "source": [
        "y = dfnew['fund_return_2020']\n",
        "X= dfnew.drop(['fund_return_2020', 'fund_symbol'], axis = 1)\n",
        "# Split data into training and testing sets\n",
        "X_train, X_test, y_train, y_test = train_test_split(X, y, test_size=0.2, random_state=42)\n",
        "\n",
        "#max_depth=5\n",
        "xg_model = xgb.XGBRegressor(objective='reg:squarederror', learning_rate=0.2, n_estimators=400, max_depth= 5)\n",
        "# Train the model\n",
        "\n",
        "xg_model.fit(X_train, y_train)\n",
        "\n",
        "# Make predictions on the test set\n",
        "y_pred = xg_model.predict(X_test)\n",
        "\n",
        "#dfpred = X_test.copy()\n",
        "#dfpred['fund_return_2020'] = y_test\n",
        "#dfpred['xgpred '] = y_pred\n",
        "\n",
        "#mse_train = mean_squared_error(y_train, xg_model.predict(X_train))\n",
        "#r2_train = r2_score(y_train, xg_model.predict(X_train))\n",
        "#print(f\"Mean squared error on train data: {mse_train}\")\n",
        "#print(f\"r squared on train data: {r2_train}\")\n",
        "#\n",
        "#mse_test = mean_squared_error(y_test, xg_model.predict(X_test))\n",
        "#r2_test = r2_score(y_test, xg_model.predict(X_test))\n",
        "#print(f\"Mean squared error on test data: {mse_test}\")\n",
        "#\n",
        "#print(f\"r squared on test data: {r2_test}\")\n",
        "\n",
        "dfnew['xgboost'] = xg_model.predict(X)\n"
      ]
    },
    {
      "cell_type": "code",
      "execution_count": null,
      "metadata": {
        "id": "sblV3Z498l91"
      },
      "outputs": [],
      "source": [
        "dfnew.head()"
      ]
    },
    {
      "cell_type": "code",
      "execution_count": null,
      "metadata": {
        "id": "P1cNLQJeCEll"
      },
      "outputs": [],
      "source": [
        "print(dfnew.shape[0])\n",
        "print(len(dfnew['fund_beta_5years']))"
      ]
    },
    {
      "cell_type": "code",
      "execution_count": null,
      "metadata": {
        "id": "iWjnLkVEA72X"
      },
      "outputs": [],
      "source": [
        "capmpred = []\n",
        "for i in dfnew['fund_beta_5years']:\n",
        "  #print (1.62 + i*(16.31-1.55))\n",
        "  capmpred.append((1.4+ i*(2.1-1.4))/100)\n",
        "\n",
        "dfnew['CAPM']= capmpred\n",
        "dfnew.head()"
      ]
    },
    {
      "cell_type": "code",
      "execution_count": null,
      "metadata": {
        "id": "nkvIBegb9f65"
      },
      "outputs": [],
      "source": [
        "plt.figure(figsize=(10, 6))\n",
        "sns.scatterplot(x='fund_return_2020', y='xgboost', data=dfnew, label='xgboost')\n",
        "sns.scatterplot(x='fund_return_2020', y='CAPM', data=dfnew, label='CAPM')\n",
        "#sns.scatterplot(x = 'fund_return_2020', y = 'fund_beta_5years', data =dfnew, label = 'BETA')\n",
        "\n",
        "# Customize the plot\n",
        "plt.xlabel('Fund Return 2020')\n",
        "plt.ylabel('Predicted Return')\n",
        "plt.title('Comparison of XGBoost and CAPM Predictions')\n",
        "plt.legend()\n",
        "plt.grid(True)\n",
        "plt.show()"
      ]
    },
    {
      "cell_type": "code",
      "execution_count": null,
      "metadata": {
        "id": "tnm6w1lRAihf"
      },
      "outputs": [],
      "source": [
        ".0\n",
        "df.columns"
      ]
    },
    {
      "cell_type": "code",
      "source": [
        "dfnew.to_csv('V2QuantPredictionsInspirit.csv', index=False)"
      ],
      "metadata": {
        "id": "43hes30wsLL9"
      },
      "execution_count": null,
      "outputs": []
    },
    {
      "cell_type": "code",
      "source": [
        "!pip3 install --user --upgrade paramonte"
      ],
      "metadata": {
        "id": "8QKye9qXsWk_"
      },
      "execution_count": null,
      "outputs": []
    },
    {
      "cell_type": "code",
      "source": [],
      "metadata": {
        "id": "_-7HX2b93Jfm"
      },
      "execution_count": null,
      "outputs": []
    },
    {
      "cell_type": "code",
      "source": [],
      "metadata": {
        "id": "fd0ihRYQ5qAy"
      },
      "execution_count": null,
      "outputs": []
    }
  ],
  "metadata": {
    "colab": {
      "provenance": []
    },
    "kernelspec": {
      "display_name": "Python 3",
      "name": "python3"
    },
    "language_info": {
      "name": "python"
    }
  },
  "nbformat": 4,
  "nbformat_minor": 0
}
